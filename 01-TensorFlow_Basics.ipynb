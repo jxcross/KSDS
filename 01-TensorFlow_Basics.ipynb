{
 "cells": [
  {
   "cell_type": "code",
   "execution_count": null,
   "metadata": {},
   "outputs": [],
   "source": [
    "import tensorflow as tf\n",
    "tf.__version__"
   ]
  },
  {
   "cell_type": "markdown",
   "metadata": {},
   "source": [
    "tf.constant"
   ]
  },
  {
   "cell_type": "code",
   "execution_count": null,
   "metadata": {},
   "outputs": [],
   "source": [
    "hello = tf.constant(\"Hello, TensorFlow!\")\n",
    "a = tf.constant(10)\n",
    "\n",
    "print(hello)\n",
    "print(a)"
   ]
  },
  {
   "cell_type": "markdown",
   "metadata": {},
   "source": [
    "tf.Variable"
   ]
  },
  {
   "cell_type": "code",
   "execution_count": null,
   "metadata": {},
   "outputs": [],
   "source": [
    "W = tf.Variable(tf.random_normal([3,2]))\n",
    "b = tf.Variable(tf.random_normal([2,1]))\n",
    "\n",
    "print(W)\n",
    "print(b)"
   ]
  },
  {
   "cell_type": "markdown",
   "metadata": {},
   "source": [
    "tf.placeholder"
   ]
  },
  {
   "cell_type": "code",
   "execution_count": null,
   "metadata": {},
   "outputs": [],
   "source": [
    "node1 = tf.placeholder(tf.float32)\n",
    "node2 = tf.placeholder(tf.float32)\n",
    "\n",
    "node3 = node1 + node2\n",
    "\n",
    "sess = tf.Session()\n",
    "\n",
    "print(sess.run(node3))"
   ]
  },
  {
   "cell_type": "code",
   "execution_count": null,
   "metadata": {},
   "outputs": [],
   "source": [
    "print(sess.run(node3, feed_dict={node1: 3., node2: 4.}))\n",
    "print(sess.run(node3, feed_dict={node1: [3,5], node2: [4,6]}))"
   ]
  },
  {
   "cell_type": "markdown",
   "metadata": {},
   "source": [
    "reduce_sum"
   ]
  },
  {
   "cell_type": "code",
   "execution_count": null,
   "metadata": {},
   "outputs": [],
   "source": [
    "import numpy as np\n",
    "\n",
    "# list\n",
    "x = [[1., 2., 3.], [4., 5., 6.]]\n",
    "\n",
    "sess = tf.Session()\n",
    "\n",
    "x = np.array(x)\n",
    "\n",
    "print(\"x: \", x)\n",
    "print(\"x.shape: \", x.shape)\n",
    "\n",
    "print(\"reduce_sum: \", sess.run(tf.reduce_sum(x)))\n",
    "print(\"reduce_sum.shape: \", sess.run(tf.reduce_sum(x)).shape)\n"
   ]
  },
  {
   "cell_type": "markdown",
   "metadata": {},
   "source": [
    "reduce_mean"
   ]
  },
  {
   "cell_type": "code",
   "execution_count": null,
   "metadata": {},
   "outputs": [],
   "source": [
    "print(\"reduce_mean: \", sess.run(tf.reduce_mean(x)))\n",
    "print(\"reduce_mean.shape: \", sess.run(tf.reduce_mean(x)).shape)\n",
    "\n",
    "print(\"reduce_mean(axis=0): \", sess.run(tf.reduce_mean(x, axis=0)))\n",
    "print(\"reduce_mean(axis=0).shape: \", sess.run(tf.reduce_mean(x, axis=0)).shape)\n",
    "\n",
    "print(\"reduce_mean(axis=1): \", sess.run(tf.reduce_mean(x, axis=1)))\n",
    "print(\"reduce_mean(axis=1).shape: \", sess.run(tf.reduce_mean(x, axis=1)).shape)\n"
   ]
  },
  {
   "cell_type": "markdown",
   "metadata": {},
   "source": [
    "tf.matmul"
   ]
  },
  {
   "cell_type": "code",
   "execution_count": null,
   "metadata": {},
   "outputs": [],
   "source": [
    "X = [[1., 2., 3.], [1., 2., 3.]]\n",
    "W = [[1.], [1.], [1.]]\n",
    "\n",
    "# 2x3  *  3x1  =>  2x1 matrix\n",
    "print(\"X*W: \\n\", sess.run(tf.matmul(X, W)))"
   ]
  },
  {
   "cell_type": "markdown",
   "metadata": {},
   "source": [
    "tf.cast"
   ]
  },
  {
   "cell_type": "code",
   "execution_count": null,
   "metadata": {},
   "outputs": [],
   "source": [
    "x = tf.constant([1.2, 3.1], dtype=tf.float32)\n",
    "print(x)\n",
    "print(sess.run(x))\n",
    "\n",
    "x = tf.cast(x, tf.int32)\n",
    "print(x)\n",
    "print(sess.run(x))\n"
   ]
  },
  {
   "cell_type": "markdown",
   "metadata": {},
   "source": [
    "tf.stack"
   ]
  },
  {
   "cell_type": "code",
   "execution_count": null,
   "metadata": {},
   "outputs": [],
   "source": [
    "x = tf.constant([1, 4])\n",
    "y = tf.constant([2, 5])\n",
    "z = tf.constant([3, 6])\n",
    "\n",
    "print(sess.run(tf.stack([x,y,z])))\n",
    "print(sess.run(tf.stack([x,y,z], axis=1)))"
   ]
  },
  {
   "cell_type": "code",
   "execution_count": null,
   "metadata": {},
   "outputs": [],
   "source": []
  }
 ],
 "metadata": {
  "kernelspec": {
   "display_name": "Python 3",
   "language": "python",
   "name": "python3"
  },
  "language_info": {
   "codemirror_mode": {
    "name": "ipython",
    "version": 3
   },
   "file_extension": ".py",
   "mimetype": "text/x-python",
   "name": "python",
   "nbconvert_exporter": "python",
   "pygments_lexer": "ipython3",
   "version": "3.6.6"
  }
 },
 "nbformat": 4,
 "nbformat_minor": 2
}
